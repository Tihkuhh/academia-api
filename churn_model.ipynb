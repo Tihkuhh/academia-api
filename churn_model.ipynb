{
 "cells": [
  {
   "cell_type": "code",
   "execution_count": 1,
   "id": "b9ef07a4",
   "metadata": {},
   "outputs": [
    {
     "name": "stdout",
     "output_type": "stream",
     "text": [
      "              precision    recall  f1-score   support\n",
      "\n",
      "           0       1.00      1.00      1.00         1\n",
      "           1       1.00      1.00      1.00         1\n",
      "\n",
      "    accuracy                           1.00         2\n",
      "   macro avg       1.00      1.00      1.00         2\n",
      "weighted avg       1.00      1.00      1.00         2\n",
      "\n"
     ]
    },
    {
     "data": {
      "text/plain": [
       "['ml/churn_model.pkl']"
      ]
     },
     "execution_count": 1,
     "metadata": {},
     "output_type": "execute_result"
    }
   ],
   "source": [
    "import pandas as pd\n",
    "import numpy as np\n",
    "from sklearn.ensemble import RandomForestClassifier\n",
    "from sklearn.model_selection import train_test_split\n",
    "from sklearn.metrics import classification_report\n",
    "import joblib\n",
    "\n",
    "# Simulação de dados de alunos e checkins\n",
    "dados = pd.DataFrame({\n",
    "    \"frequencia_semanal\": [3, 1, 0, 5, 2, 4, 1, 0, 3, 2],\n",
    "    \"dias_desde_ultimo_checkin\": [1, 15, 40, 0, 10, 2, 30, 60, 5, 8],\n",
    "    \"duracao_media_visitas\": [45, 30, 0, 60, 35, 50, 20, 0, 40, 25],\n",
    "    \"tipo_plano\": [0, 1, 1, 0, 1, 0, 1, 1, 0, 1],  # 0 = mensal, 1 = anual\n",
    "    \"churn\": [0, 1, 1, 0, 1, 0, 1, 1, 0, 1]\n",
    "})\n",
    "\n",
    "X = dados.drop(\"churn\", axis=1)\n",
    "y = dados[\"churn\"]\n",
    "\n",
    "X_train, X_test, y_train, y_test = train_test_split(X, y, test_size=0.2)\n",
    "\n",
    "modelo = RandomForestClassifier()\n",
    "modelo.fit(X_train, y_train)\n",
    "\n",
    "# Avaliação\n",
    "print(classification_report(y_test, modelo.predict(X_test)))\n",
    "\n",
    "# Salva o modelo\n",
    "joblib.dump(modelo, \"ml/churn_model.pkl\")\n"
   ]
  }
 ],
 "metadata": {
  "kernelspec": {
   "display_name": "Python 3",
   "language": "python",
   "name": "python3"
  },
  "language_info": {
   "codemirror_mode": {
    "name": "ipython",
    "version": 3
   },
   "file_extension": ".py",
   "mimetype": "text/x-python",
   "name": "python",
   "nbconvert_exporter": "python",
   "pygments_lexer": "ipython3",
   "version": "3.13.3"
  }
 },
 "nbformat": 4,
 "nbformat_minor": 5
}
